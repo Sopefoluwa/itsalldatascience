{
 "cells": [
  {
   "cell_type": "markdown",
   "id": "e178d6db",
   "metadata": {
    "papermill": {
     "duration": 0.012807,
     "end_time": "2022-04-25T15:50:19.696849",
     "exception": false,
     "start_time": "2022-04-25T15:50:19.684042",
     "status": "completed"
    },
    "tags": []
   },
   "source": [
    "**This notebook is an exercise in the [Introduction to Machine Learning](https://www.kaggle.com/learn/intro-to-machine-learning) course.  You can reference the tutorial at [this link](https://www.kaggle.com/dansbecker/underfitting-and-overfitting).**\n",
    "\n",
    "---\n"
   ]
  },
  {
   "cell_type": "markdown",
   "id": "a120fc22",
   "metadata": {
    "papermill": {
     "duration": 0.011684,
     "end_time": "2022-04-25T15:50:19.720211",
     "exception": false,
     "start_time": "2022-04-25T15:50:19.708527",
     "status": "completed"
    },
    "tags": []
   },
   "source": [
    "## Recap\n",
    "You've built your first model, and now it's time to optimize the size of the tree to make better predictions. Run this cell to set up your coding environment where the previous step left off."
   ]
  },
  {
   "cell_type": "code",
   "execution_count": 1,
   "id": "d9966fef",
   "metadata": {
    "execution": {
     "iopub.execute_input": "2022-04-25T15:50:19.745422Z",
     "iopub.status.busy": "2022-04-25T15:50:19.744881Z",
     "iopub.status.idle": "2022-04-25T15:50:21.251564Z",
     "shell.execute_reply": "2022-04-25T15:50:21.250654Z"
    },
    "papermill": {
     "duration": 1.522579,
     "end_time": "2022-04-25T15:50:21.254337",
     "exception": false,
     "start_time": "2022-04-25T15:50:19.731758",
     "status": "completed"
    },
    "tags": []
   },
   "outputs": [
    {
     "name": "stdout",
     "output_type": "stream",
     "text": [
      "Validation MAE: 29,653\n",
      "\n",
      "Setup complete\n"
     ]
    }
   ],
   "source": [
    "# Code you have previously used to load data\n",
    "import pandas as pd\n",
    "from sklearn.metrics import mean_absolute_error\n",
    "from sklearn.model_selection import train_test_split\n",
    "from sklearn.tree import DecisionTreeRegressor\n",
    "\n",
    "\n",
    "# Path of the file to read\n",
    "iowa_file_path = '../input/home-data-for-ml-course/train.csv'\n",
    "\n",
    "home_data = pd.read_csv(iowa_file_path)\n",
    "# Create target object and call it y\n",
    "y = home_data.SalePrice\n",
    "# Create X\n",
    "features = ['LotArea', 'YearBuilt', '1stFlrSF', '2ndFlrSF', 'FullBath', 'BedroomAbvGr', 'TotRmsAbvGrd']\n",
    "X = home_data[features]\n",
    "\n",
    "# Split into validation and training data\n",
    "train_X, val_X, train_y, val_y = train_test_split(X, y, random_state=1)\n",
    "\n",
    "# Specify Model\n",
    "iowa_model = DecisionTreeRegressor(random_state=1)\n",
    "# Fit Model\n",
    "iowa_model.fit(train_X, train_y)\n",
    "\n",
    "# Make validation predictions and calculate mean absolute error\n",
    "val_predictions = iowa_model.predict(val_X)\n",
    "val_mae = mean_absolute_error(val_predictions, val_y)\n",
    "print(\"Validation MAE: {:,.0f}\".format(val_mae))\n",
    "\n",
    "# Set up code checking\n",
    "from learntools.core import binder\n",
    "binder.bind(globals())\n",
    "from learntools.machine_learning.ex5 import *\n",
    "print(\"\\nSetup complete\")"
   ]
  },
  {
   "cell_type": "markdown",
   "id": "6c58282e",
   "metadata": {
    "papermill": {
     "duration": 0.012755,
     "end_time": "2022-04-25T15:50:21.280454",
     "exception": false,
     "start_time": "2022-04-25T15:50:21.267699",
     "status": "completed"
    },
    "tags": []
   },
   "source": [
    "# Exercises\n",
    "You could write the function `get_mae` yourself. For now, we'll supply it. This is the same function you read about in the previous lesson. Just run the cell below."
   ]
  },
  {
   "cell_type": "code",
   "execution_count": 2,
   "id": "10883d9c",
   "metadata": {
    "execution": {
     "iopub.execute_input": "2022-04-25T15:50:21.306171Z",
     "iopub.status.busy": "2022-04-25T15:50:21.305879Z",
     "iopub.status.idle": "2022-04-25T15:50:21.311235Z",
     "shell.execute_reply": "2022-04-25T15:50:21.310547Z"
    },
    "papermill": {
     "duration": 0.020726,
     "end_time": "2022-04-25T15:50:21.313056",
     "exception": false,
     "start_time": "2022-04-25T15:50:21.292330",
     "status": "completed"
    },
    "tags": []
   },
   "outputs": [],
   "source": [
    "def get_mae(max_leaf_nodes, train_X, val_X, train_y, val_y):\n",
    "    model = DecisionTreeRegressor(max_leaf_nodes=max_leaf_nodes, random_state=0)\n",
    "    model.fit(train_X, train_y)\n",
    "    preds_val = model.predict(val_X)\n",
    "    mae = mean_absolute_error(val_y, preds_val)\n",
    "    return(mae)"
   ]
  },
  {
   "cell_type": "markdown",
   "id": "947684a5",
   "metadata": {
    "papermill": {
     "duration": 0.011573,
     "end_time": "2022-04-25T15:50:21.336731",
     "exception": false,
     "start_time": "2022-04-25T15:50:21.325158",
     "status": "completed"
    },
    "tags": []
   },
   "source": [
    "## Step 1: Compare Different Tree Sizes\n",
    "Write a loop that tries the following values for *max_leaf_nodes* from a set of possible values.\n",
    "\n",
    "Call the *get_mae* function on each value of max_leaf_nodes. Store the output in some way that allows you to select the value of `max_leaf_nodes` that gives the most accurate model on your data."
   ]
  },
  {
   "cell_type": "code",
   "execution_count": 3,
   "id": "93011dc7",
   "metadata": {
    "execution": {
     "iopub.execute_input": "2022-04-25T15:50:21.362384Z",
     "iopub.status.busy": "2022-04-25T15:50:21.361827Z",
     "iopub.status.idle": "2022-04-25T15:50:21.413379Z",
     "shell.execute_reply": "2022-04-25T15:50:21.412496Z"
    },
    "papermill": {
     "duration": 0.066813,
     "end_time": "2022-04-25T15:50:21.415452",
     "exception": false,
     "start_time": "2022-04-25T15:50:21.348639",
     "status": "completed"
    },
    "tags": []
   },
   "outputs": [
    {
     "name": "stdout",
     "output_type": "stream",
     "text": [
      "Max leaf nodes: 5 \t\t Mean Absolute Error: 35044\n",
      "Max leaf nodes: 25 \t\t Mean Absolute Error: 29016\n",
      "Max leaf nodes: 50 \t\t Mean Absolute Error: 27405\n",
      "Max leaf nodes: 100 \t\t Mean Absolute Error: 27282\n",
      "Max leaf nodes: 250 \t\t Mean Absolute Error: 27893\n",
      "Max leaf nodes: 500 \t\t Mean Absolute Error: 29454\n",
      "100\n"
     ]
    },
    {
     "data": {
      "application/javascript": [
       "parent.postMessage({\"jupyterEvent\": \"custom.exercise_interaction\", \"data\": {\"outcomeType\": 1, \"valueTowardsCompletion\": 0.5, \"interactionType\": 1, \"questionType\": 1, \"questionId\": \"1_BestTreeSize\", \"learnToolsVersion\": \"0.3.4\", \"failureMessage\": \"\", \"exceptionClass\": \"\", \"trace\": \"\"}}, \"*\")"
      ],
      "text/plain": [
       "<IPython.core.display.Javascript object>"
      ]
     },
     "metadata": {},
     "output_type": "display_data"
    },
    {
     "data": {
      "text/markdown": [
       "<span style=\"color:#33cc33\">Correct</span>"
      ],
      "text/plain": [
       "Correct"
      ]
     },
     "metadata": {},
     "output_type": "display_data"
    }
   ],
   "source": [
    "candidate_max_leaf_nodes = [5, 25, 50, 100, 250, 500]\n",
    "# Write loop to find the ideal tree size from candidate_max_leaf_nodes\n",
    "for max_leaf_nodes in candidate_max_leaf_nodes:\n",
    "    elem_mae = get_mae(max_leaf_nodes, train_X, val_X, train_y, val_y)\n",
    "    print(\"Max leaf nodes: %d \\t\\t Mean Absolute Error: %d\"%(max_leaf_nodes,elem_mae))\n",
    "\n",
    "# Store the best value of max_leaf_nodes (it will be either 5, 25, 50, 100, 250 or 500)\n",
    "best_tree_size = 100\n",
    "print(best_tree_size)\n",
    "\n",
    "# Check your answer\n",
    "step_1.check()"
   ]
  },
  {
   "cell_type": "code",
   "execution_count": 4,
   "id": "b01a61c7",
   "metadata": {
    "execution": {
     "iopub.execute_input": "2022-04-25T15:50:21.445854Z",
     "iopub.status.busy": "2022-04-25T15:50:21.445274Z",
     "iopub.status.idle": "2022-04-25T15:50:21.448528Z",
     "shell.execute_reply": "2022-04-25T15:50:21.447872Z"
    },
    "papermill": {
     "duration": 0.020772,
     "end_time": "2022-04-25T15:50:21.450475",
     "exception": false,
     "start_time": "2022-04-25T15:50:21.429703",
     "status": "completed"
    },
    "tags": []
   },
   "outputs": [],
   "source": [
    "# The lines below will show you a hint or the solution.\n",
    "# step_1.hint() \n",
    "#step_1.solution()"
   ]
  },
  {
   "cell_type": "markdown",
   "id": "bf3bbdf9",
   "metadata": {
    "papermill": {
     "duration": 0.013831,
     "end_time": "2022-04-25T15:50:21.478855",
     "exception": false,
     "start_time": "2022-04-25T15:50:21.465024",
     "status": "completed"
    },
    "tags": []
   },
   "source": [
    "## Step 2: Fit Model Using All Data\n",
    "You know the best tree size. If you were going to deploy this model in practice, you would make it even more accurate by using all of the data and keeping that tree size.  That is, you don't need to hold out the validation data now that you've made all your modeling decisions."
   ]
  },
  {
   "cell_type": "code",
   "execution_count": 5,
   "id": "7078397d",
   "metadata": {
    "execution": {
     "iopub.execute_input": "2022-04-25T15:50:21.508121Z",
     "iopub.status.busy": "2022-04-25T15:50:21.507557Z",
     "iopub.status.idle": "2022-04-25T15:50:21.525582Z",
     "shell.execute_reply": "2022-04-25T15:50:21.524898Z"
    },
    "papermill": {
     "duration": 0.035186,
     "end_time": "2022-04-25T15:50:21.527732",
     "exception": false,
     "start_time": "2022-04-25T15:50:21.492546",
     "status": "completed"
    },
    "tags": []
   },
   "outputs": [
    {
     "data": {
      "application/javascript": [
       "parent.postMessage({\"jupyterEvent\": \"custom.exercise_interaction\", \"data\": {\"outcomeType\": 1, \"valueTowardsCompletion\": 0.5, \"interactionType\": 1, \"questionType\": 2, \"questionId\": \"2_FitModelWithAllData\", \"learnToolsVersion\": \"0.3.4\", \"failureMessage\": \"\", \"exceptionClass\": \"\", \"trace\": \"\"}}, \"*\")"
      ],
      "text/plain": [
       "<IPython.core.display.Javascript object>"
      ]
     },
     "metadata": {},
     "output_type": "display_data"
    },
    {
     "data": {
      "text/markdown": [
       "<span style=\"color:#33cc33\">Correct</span>"
      ],
      "text/plain": [
       "Correct"
      ]
     },
     "metadata": {},
     "output_type": "display_data"
    }
   ],
   "source": [
    "# Fill in argument to make optimal size and uncomment\n",
    "final_model = DecisionTreeRegressor(max_leaf_nodes=best_tree_size, random_state=1)\n",
    "\n",
    "# fit the final model and uncomment the next two lines\n",
    "final_model.fit(X,y)\n",
    "\n",
    "# Check your answer\n",
    "step_2.check()"
   ]
  },
  {
   "cell_type": "code",
   "execution_count": 6,
   "id": "fa173c55",
   "metadata": {
    "execution": {
     "iopub.execute_input": "2022-04-25T15:50:21.560829Z",
     "iopub.status.busy": "2022-04-25T15:50:21.560152Z",
     "iopub.status.idle": "2022-04-25T15:50:21.563566Z",
     "shell.execute_reply": "2022-04-25T15:50:21.562851Z"
    },
    "papermill": {
     "duration": 0.023264,
     "end_time": "2022-04-25T15:50:21.566100",
     "exception": false,
     "start_time": "2022-04-25T15:50:21.542836",
     "status": "completed"
    },
    "tags": []
   },
   "outputs": [],
   "source": [
    "# step_2.hint()\n",
    "# step_2.solution()"
   ]
  },
  {
   "cell_type": "markdown",
   "id": "3737847c",
   "metadata": {
    "papermill": {
     "duration": 0.014348,
     "end_time": "2022-04-25T15:50:21.596326",
     "exception": false,
     "start_time": "2022-04-25T15:50:21.581978",
     "status": "completed"
    },
    "tags": []
   },
   "source": [
    "You've tuned this model and improved your results. But we are still using Decision Tree models, which are not very sophisticated by modern machine learning standards. In the next step you will learn to use Random Forests to improve your models even more.\n",
    "\n",
    "# Keep Going\n",
    "\n",
    "You are ready for **[Random Forests](https://www.kaggle.com/dansbecker/random-forests).**\n"
   ]
  },
  {
   "cell_type": "markdown",
   "id": "24309f84",
   "metadata": {
    "papermill": {
     "duration": 0.01423,
     "end_time": "2022-04-25T15:50:21.625113",
     "exception": false,
     "start_time": "2022-04-25T15:50:21.610883",
     "status": "completed"
    },
    "tags": []
   },
   "source": [
    "---\n",
    "\n",
    "\n",
    "\n",
    "\n",
    "*Have questions or comments? Visit the [course discussion forum](https://www.kaggle.com/learn/intro-to-machine-learning/discussion) to chat with other learners.*"
   ]
  }
 ],
 "metadata": {
  "kernelspec": {
   "display_name": "Python 3",
   "language": "python",
   "name": "python3"
  },
  "language_info": {
   "codemirror_mode": {
    "name": "ipython",
    "version": 3
   },
   "file_extension": ".py",
   "mimetype": "text/x-python",
   "name": "python",
   "nbconvert_exporter": "python",
   "pygments_lexer": "ipython3",
   "version": "3.7.12"
  },
  "papermill": {
   "default_parameters": {},
   "duration": 13.191059,
   "end_time": "2022-04-25T15:50:22.360273",
   "environment_variables": {},
   "exception": null,
   "input_path": "__notebook__.ipynb",
   "output_path": "__notebook__.ipynb",
   "parameters": {},
   "start_time": "2022-04-25T15:50:09.169214",
   "version": "2.3.4"
  }
 },
 "nbformat": 4,
 "nbformat_minor": 5
}
