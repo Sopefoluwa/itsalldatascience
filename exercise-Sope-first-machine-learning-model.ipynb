{
 "cells": [
  {
   "cell_type": "markdown",
   "id": "02829035",
   "metadata": {
    "papermill": {
     "duration": 0.017039,
     "end_time": "2022-04-05T11:12:25.948852",
     "exception": false,
     "start_time": "2022-04-05T11:12:25.931813",
     "status": "completed"
    },
    "tags": []
   },
   "source": [
    "**This notebook is an exercise in the [Introduction to Machine Learning](https://www.kaggle.com/learn/intro-to-machine-learning) course.  You can reference the tutorial at [this link](https://www.kaggle.com/dansbecker/your-first-machine-learning-model).**\n",
    "\n",
    "---\n"
   ]
  },
  {
   "cell_type": "markdown",
   "id": "8cecbc2a",
   "metadata": {
    "papermill": {
     "duration": 0.015675,
     "end_time": "2022-04-05T11:12:25.980256",
     "exception": false,
     "start_time": "2022-04-05T11:12:25.964581",
     "status": "completed"
    },
    "tags": []
   },
   "source": [
    "## Recap\n",
    "So far, you have loaded your data and reviewed it with the following code. Run this cell to set up your coding environment where the previous step left off."
   ]
  },
  {
   "cell_type": "code",
   "execution_count": 1,
   "id": "a9ee16c0",
   "metadata": {
    "execution": {
     "iopub.execute_input": "2022-04-05T11:12:26.017741Z",
     "iopub.status.busy": "2022-04-05T11:12:26.015934Z",
     "iopub.status.idle": "2022-04-05T11:12:27.165991Z",
     "shell.execute_reply": "2022-04-05T11:12:27.166538Z",
     "shell.execute_reply.started": "2022-04-05T10:38:45.739015Z"
    },
    "papermill": {
     "duration": 1.170615,
     "end_time": "2022-04-05T11:12:27.166778",
     "exception": false,
     "start_time": "2022-04-05T11:12:25.996163",
     "status": "completed"
    },
    "tags": []
   },
   "outputs": [
    {
     "name": "stdout",
     "output_type": "stream",
     "text": [
      "Setup Complete\n"
     ]
    }
   ],
   "source": [
    "# Code you have previously used to load data\n",
    "import pandas as pd\n",
    "\n",
    "# Path of the file to read\n",
    "iowa_file_path = '../input/home-data-for-ml-course/train.csv'\n",
    "\n",
    "home_data = pd.read_csv(iowa_file_path)\n",
    "\n",
    "# Set up code checking\n",
    "from learntools.core import binder\n",
    "binder.bind(globals())\n",
    "from learntools.machine_learning.ex3 import *\n",
    "\n",
    "print(\"Setup Complete\")"
   ]
  },
  {
   "cell_type": "markdown",
   "id": "8488a928",
   "metadata": {
    "papermill": {
     "duration": 0.015666,
     "end_time": "2022-04-05T11:12:27.199005",
     "exception": false,
     "start_time": "2022-04-05T11:12:27.183339",
     "status": "completed"
    },
    "tags": []
   },
   "source": [
    "# Exercises\n",
    "\n",
    "## Step 1: Specify Prediction Target\n",
    "Select the target variable, which corresponds to the sales price. Save this to a new variable called `y`. You'll need to print a list of the columns to find the name of the column you need.\n"
   ]
  },
  {
   "cell_type": "code",
   "execution_count": 2,
   "id": "db810163",
   "metadata": {
    "execution": {
     "iopub.execute_input": "2022-04-05T11:12:27.234270Z",
     "iopub.status.busy": "2022-04-05T11:12:27.233491Z",
     "iopub.status.idle": "2022-04-05T11:12:27.238693Z",
     "shell.execute_reply": "2022-04-05T11:12:27.239228Z",
     "shell.execute_reply.started": "2022-04-05T10:40:24.470031Z"
    },
    "papermill": {
     "duration": 0.023952,
     "end_time": "2022-04-05T11:12:27.239393",
     "exception": false,
     "start_time": "2022-04-05T11:12:27.215441",
     "status": "completed"
    },
    "tags": []
   },
   "outputs": [
    {
     "name": "stdout",
     "output_type": "stream",
     "text": [
      "Index(['Id', 'MSSubClass', 'MSZoning', 'LotFrontage', 'LotArea', 'Street',\n",
      "       'Alley', 'LotShape', 'LandContour', 'Utilities', 'LotConfig',\n",
      "       'LandSlope', 'Neighborhood', 'Condition1', 'Condition2', 'BldgType',\n",
      "       'HouseStyle', 'OverallQual', 'OverallCond', 'YearBuilt', 'YearRemodAdd',\n",
      "       'RoofStyle', 'RoofMatl', 'Exterior1st', 'Exterior2nd', 'MasVnrType',\n",
      "       'MasVnrArea', 'ExterQual', 'ExterCond', 'Foundation', 'BsmtQual',\n",
      "       'BsmtCond', 'BsmtExposure', 'BsmtFinType1', 'BsmtFinSF1',\n",
      "       'BsmtFinType2', 'BsmtFinSF2', 'BsmtUnfSF', 'TotalBsmtSF', 'Heating',\n",
      "       'HeatingQC', 'CentralAir', 'Electrical', '1stFlrSF', '2ndFlrSF',\n",
      "       'LowQualFinSF', 'GrLivArea', 'BsmtFullBath', 'BsmtHalfBath', 'FullBath',\n",
      "       'HalfBath', 'BedroomAbvGr', 'KitchenAbvGr', 'KitchenQual',\n",
      "       'TotRmsAbvGrd', 'Functional', 'Fireplaces', 'FireplaceQu', 'GarageType',\n",
      "       'GarageYrBlt', 'GarageFinish', 'GarageCars', 'GarageArea', 'GarageQual',\n",
      "       'GarageCond', 'PavedDrive', 'WoodDeckSF', 'OpenPorchSF',\n",
      "       'EnclosedPorch', '3SsnPorch', 'ScreenPorch', 'PoolArea', 'PoolQC',\n",
      "       'Fence', 'MiscFeature', 'MiscVal', 'MoSold', 'YrSold', 'SaleType',\n",
      "       'SaleCondition', 'SalePrice'],\n",
      "      dtype='object')\n"
     ]
    }
   ],
   "source": [
    "# print the list of columns in the dataset to find the name of the prediction target\n",
    "print(home_data.columns)"
   ]
  },
  {
   "cell_type": "code",
   "execution_count": 3,
   "id": "64a40f6a",
   "metadata": {
    "execution": {
     "iopub.execute_input": "2022-04-05T11:12:27.282945Z",
     "iopub.status.busy": "2022-04-05T11:12:27.282147Z",
     "iopub.status.idle": "2022-04-05T11:12:27.287370Z",
     "shell.execute_reply": "2022-04-05T11:12:27.286874Z",
     "shell.execute_reply.started": "2022-04-05T10:41:48.096743Z"
    },
    "papermill": {
     "duration": 0.031176,
     "end_time": "2022-04-05T11:12:27.287497",
     "exception": false,
     "start_time": "2022-04-05T11:12:27.256321",
     "status": "completed"
    },
    "tags": []
   },
   "outputs": [
    {
     "data": {
      "application/javascript": [
       "parent.postMessage({\"jupyterEvent\": \"custom.exercise_interaction\", \"data\": {\"outcomeType\": 1, \"valueTowardsCompletion\": 0.25, \"interactionType\": 1, \"questionType\": 2, \"questionId\": \"1_SetTarget\", \"learnToolsVersion\": \"0.3.4\", \"failureMessage\": \"\", \"exceptionClass\": \"\", \"trace\": \"\"}}, \"*\")"
      ],
      "text/plain": [
       "<IPython.core.display.Javascript object>"
      ]
     },
     "metadata": {},
     "output_type": "display_data"
    },
    {
     "data": {
      "text/markdown": [
       "<span style=\"color:#33cc33\">Correct</span>"
      ],
      "text/plain": [
       "Correct"
      ]
     },
     "metadata": {},
     "output_type": "display_data"
    }
   ],
   "source": [
    "y = home_data.SalePrice\n",
    "\n",
    "# Check your answer\n",
    "step_1.check()"
   ]
  },
  {
   "cell_type": "code",
   "execution_count": 4,
   "id": "7c2cc8a8",
   "metadata": {
    "collapsed": true,
    "execution": {
     "iopub.execute_input": "2022-04-05T11:12:27.325472Z",
     "iopub.status.busy": "2022-04-05T11:12:27.324982Z",
     "iopub.status.idle": "2022-04-05T11:12:27.327138Z",
     "shell.execute_reply": "2022-04-05T11:12:27.327664Z"
    },
    "jupyter": {
     "outputs_hidden": true
    },
    "papermill": {
     "duration": 0.022709,
     "end_time": "2022-04-05T11:12:27.327799",
     "exception": false,
     "start_time": "2022-04-05T11:12:27.305090",
     "status": "completed"
    },
    "tags": []
   },
   "outputs": [],
   "source": [
    "# The lines below will show you a hint or the solution.\n",
    "# step_1.hint() \n",
    "# step_1.solution()"
   ]
  },
  {
   "cell_type": "markdown",
   "id": "c77cac0d",
   "metadata": {
    "papermill": {
     "duration": 0.020844,
     "end_time": "2022-04-05T11:12:27.368146",
     "exception": false,
     "start_time": "2022-04-05T11:12:27.347302",
     "status": "completed"
    },
    "tags": []
   },
   "source": [
    "## Step 2: Create X\n",
    "Now you will create a DataFrame called `X` holding the predictive features.\n",
    "\n",
    "Since you want only some columns from the original data, you'll first create a list with the names of the columns you want in `X`.\n",
    "\n",
    "You'll use just the following columns in the list (you can copy and paste the whole list to save some typing, though you'll still need to add quotes):\n",
    "  * LotArea\n",
    "  * YearBuilt\n",
    "  * 1stFlrSF\n",
    "  * 2ndFlrSF\n",
    "  * FullBath\n",
    "  * BedroomAbvGr\n",
    "  * TotRmsAbvGrd\n",
    "\n",
    "After you've created that list of features, use it to create the DataFrame that you'll use to fit the model."
   ]
  },
  {
   "cell_type": "code",
   "execution_count": 5,
   "id": "68744a2a",
   "metadata": {
    "execution": {
     "iopub.execute_input": "2022-04-05T11:12:27.408998Z",
     "iopub.status.busy": "2022-04-05T11:12:27.408373Z",
     "iopub.status.idle": "2022-04-05T11:12:27.443287Z",
     "shell.execute_reply": "2022-04-05T11:12:27.443670Z",
     "shell.execute_reply.started": "2022-04-05T10:50:51.395073Z"
    },
    "papermill": {
     "duration": 0.05626,
     "end_time": "2022-04-05T11:12:27.443806",
     "exception": false,
     "start_time": "2022-04-05T11:12:27.387546",
     "status": "completed"
    },
    "tags": []
   },
   "outputs": [
    {
     "name": "stdout",
     "output_type": "stream",
     "text": [
      "['LotArea', 'YearBuilt', '1stFlrSF', '2ndFlrSF', 'FullBath', 'BedroomAbvGr', 'TotRmsAbvGrd']\n"
     ]
    },
    {
     "data": {
      "application/javascript": [
       "parent.postMessage({\"jupyterEvent\": \"custom.exercise_interaction\", \"data\": {\"outcomeType\": 1, \"valueTowardsCompletion\": 0.25, \"interactionType\": 1, \"questionType\": 2, \"questionId\": \"2_SelectPredictionData\", \"learnToolsVersion\": \"0.3.4\", \"failureMessage\": \"\", \"exceptionClass\": \"\", \"trace\": \"\"}}, \"*\")"
      ],
      "text/plain": [
       "<IPython.core.display.Javascript object>"
      ]
     },
     "metadata": {},
     "output_type": "display_data"
    },
    {
     "data": {
      "text/markdown": [
       "<span style=\"color:#33cc33\">Correct</span>"
      ],
      "text/plain": [
       "Correct"
      ]
     },
     "metadata": {},
     "output_type": "display_data"
    }
   ],
   "source": [
    "# Create the list of features below\n",
    "names = ('LotArea','YearBuilt','1stFlrSF','2ndFlrSF','FullBath','BedroomAbvGr','TotRmsAbvGrd')\n",
    "feature_names = []\n",
    "for nam in names:\n",
    "    feature_names.append(nam)\n",
    "    \n",
    "print(feature_names)\n",
    "\n",
    "# Select data corresponding to features in feature_names\n",
    "X = home_data[feature_names]\n",
    "\n",
    "X.describe()\n",
    "X.head()\n",
    "\n",
    "# Check your answer\n",
    "step_2.check()"
   ]
  },
  {
   "cell_type": "code",
   "execution_count": 6,
   "id": "33456d13",
   "metadata": {
    "collapsed": true,
    "execution": {
     "iopub.execute_input": "2022-04-05T11:12:27.485585Z",
     "iopub.status.busy": "2022-04-05T11:12:27.485059Z",
     "iopub.status.idle": "2022-04-05T11:12:27.487488Z",
     "shell.execute_reply": "2022-04-05T11:12:27.486969Z"
    },
    "jupyter": {
     "outputs_hidden": true
    },
    "papermill": {
     "duration": 0.024766,
     "end_time": "2022-04-05T11:12:27.487626",
     "exception": false,
     "start_time": "2022-04-05T11:12:27.462860",
     "status": "completed"
    },
    "tags": []
   },
   "outputs": [],
   "source": [
    "# step_2.hint()\n",
    "# step_2.solution()"
   ]
  },
  {
   "cell_type": "markdown",
   "id": "5c217b3c",
   "metadata": {
    "papermill": {
     "duration": 0.020529,
     "end_time": "2022-04-05T11:12:27.527168",
     "exception": false,
     "start_time": "2022-04-05T11:12:27.506639",
     "status": "completed"
    },
    "tags": []
   },
   "source": [
    "## Review Data\n",
    "Before building a model, take a quick look at **X** to verify it looks sensible"
   ]
  },
  {
   "cell_type": "code",
   "execution_count": 7,
   "id": "2b6a65c2",
   "metadata": {
    "execution": {
     "iopub.execute_input": "2022-04-05T11:12:27.568912Z",
     "iopub.status.busy": "2022-04-05T11:12:27.568311Z",
     "iopub.status.idle": "2022-04-05T11:12:27.591900Z",
     "shell.execute_reply": "2022-04-05T11:12:27.592452Z",
     "shell.execute_reply.started": "2022-04-05T10:51:57.223069Z"
    },
    "papermill": {
     "duration": 0.046337,
     "end_time": "2022-04-05T11:12:27.592629",
     "exception": false,
     "start_time": "2022-04-05T11:12:27.546292",
     "status": "completed"
    },
    "tags": []
   },
   "outputs": [
    {
     "name": "stdout",
     "output_type": "stream",
     "text": [
      "             LotArea    YearBuilt     1stFlrSF     2ndFlrSF     FullBath  \\\n",
      "count    1460.000000  1460.000000  1460.000000  1460.000000  1460.000000   \n",
      "mean    10516.828082  1971.267808  1162.626712   346.992466     1.565068   \n",
      "std      9981.264932    30.202904   386.587738   436.528436     0.550916   \n",
      "min      1300.000000  1872.000000   334.000000     0.000000     0.000000   \n",
      "25%      7553.500000  1954.000000   882.000000     0.000000     1.000000   \n",
      "50%      9478.500000  1973.000000  1087.000000     0.000000     2.000000   \n",
      "75%     11601.500000  2000.000000  1391.250000   728.000000     2.000000   \n",
      "max    215245.000000  2010.000000  4692.000000  2065.000000     3.000000   \n",
      "\n",
      "       BedroomAbvGr  TotRmsAbvGrd  \n",
      "count   1460.000000   1460.000000  \n",
      "mean       2.866438      6.517808  \n",
      "std        0.815778      1.625393  \n",
      "min        0.000000      2.000000  \n",
      "25%        2.000000      5.000000  \n",
      "50%        3.000000      6.000000  \n",
      "75%        3.000000      7.000000  \n",
      "max        8.000000     14.000000  \n",
      "   LotArea  YearBuilt  1stFlrSF  2ndFlrSF  FullBath  BedroomAbvGr  \\\n",
      "0     8450       2003       856       854         2             3   \n",
      "1     9600       1976      1262         0         2             3   \n",
      "2    11250       2001       920       866         2             3   \n",
      "3     9550       1915       961       756         1             3   \n",
      "4    14260       2000      1145      1053         2             4   \n",
      "\n",
      "   TotRmsAbvGrd  \n",
      "0             8  \n",
      "1             6  \n",
      "2             6  \n",
      "3             7  \n",
      "4             9  \n"
     ]
    }
   ],
   "source": [
    "# Review data\n",
    "# print description or statistics from X\n",
    "print(X.describe())\n",
    "\n",
    "# print the top few lines\n",
    "print(X.head())"
   ]
  },
  {
   "cell_type": "markdown",
   "id": "cb943392",
   "metadata": {
    "papermill": {
     "duration": 0.019427,
     "end_time": "2022-04-05T11:12:27.632414",
     "exception": false,
     "start_time": "2022-04-05T11:12:27.612987",
     "status": "completed"
    },
    "tags": []
   },
   "source": [
    "## Step 3: Specify and Fit Model\n",
    "Create a `DecisionTreeRegressor` and save it iowa_model. Ensure you've done the relevant import from sklearn to run this command.\n",
    "\n",
    "Then fit the model you just created using the data in `X` and `y` that you saved above."
   ]
  },
  {
   "cell_type": "code",
   "execution_count": 8,
   "id": "9fcc31be",
   "metadata": {
    "execution": {
     "iopub.execute_input": "2022-04-05T11:12:27.673129Z",
     "iopub.status.busy": "2022-04-05T11:12:27.672654Z",
     "iopub.status.idle": "2022-04-05T11:12:27.685222Z",
     "shell.execute_reply": "2022-04-05T11:12:27.685656Z",
     "shell.execute_reply.started": "2022-04-05T10:56:08.995435Z"
    },
    "papermill": {
     "duration": 0.0341,
     "end_time": "2022-04-05T11:12:27.685772",
     "exception": false,
     "start_time": "2022-04-05T11:12:27.651672",
     "status": "completed"
    },
    "tags": []
   },
   "outputs": [
    {
     "data": {
      "application/javascript": [
       "parent.postMessage({\"jupyterEvent\": \"custom.exercise_interaction\", \"data\": {\"outcomeType\": 1, \"valueTowardsCompletion\": 0.25, \"interactionType\": 1, \"questionType\": 2, \"questionId\": \"3_CreateModel\", \"learnToolsVersion\": \"0.3.4\", \"failureMessage\": \"\", \"exceptionClass\": \"\", \"trace\": \"\"}}, \"*\")"
      ],
      "text/plain": [
       "<IPython.core.display.Javascript object>"
      ]
     },
     "metadata": {},
     "output_type": "display_data"
    },
    {
     "data": {
      "text/markdown": [
       "<span style=\"color:#33cc33\">Correct</span>"
      ],
      "text/plain": [
       "Correct"
      ]
     },
     "metadata": {},
     "output_type": "display_data"
    }
   ],
   "source": [
    " from sklearn.tree import DecisionTreeRegressor\n",
    "#specify the model. \n",
    "#For model reproducibility, set a numeric value for random_state when specifying the model\n",
    "iowa_model = DecisionTreeRegressor(random_state = 2)\n",
    "\n",
    "# Fit the model\n",
    "iowa_model.fit(X,y)\n",
    "\n",
    "# Check your answer\n",
    "step_3.check()"
   ]
  },
  {
   "cell_type": "code",
   "execution_count": 9,
   "id": "c49214e1",
   "metadata": {
    "collapsed": true,
    "execution": {
     "iopub.execute_input": "2022-04-05T11:12:27.729126Z",
     "iopub.status.busy": "2022-04-05T11:12:27.728621Z",
     "iopub.status.idle": "2022-04-05T11:12:27.731070Z",
     "shell.execute_reply": "2022-04-05T11:12:27.731661Z"
    },
    "jupyter": {
     "outputs_hidden": true
    },
    "papermill": {
     "duration": 0.025383,
     "end_time": "2022-04-05T11:12:27.731815",
     "exception": false,
     "start_time": "2022-04-05T11:12:27.706432",
     "status": "completed"
    },
    "tags": []
   },
   "outputs": [],
   "source": [
    "# step_3.hint()\n",
    "# step_3.solution()"
   ]
  },
  {
   "cell_type": "markdown",
   "id": "0236866e",
   "metadata": {
    "papermill": {
     "duration": 0.020533,
     "end_time": "2022-04-05T11:12:27.773095",
     "exception": false,
     "start_time": "2022-04-05T11:12:27.752562",
     "status": "completed"
    },
    "tags": []
   },
   "source": [
    "## Step 4: Make Predictions\n",
    "Make predictions with the model's `predict` command using `X` as the data. Save the results to a variable called `predictions`."
   ]
  },
  {
   "cell_type": "code",
   "execution_count": 10,
   "id": "53bbb338",
   "metadata": {
    "execution": {
     "iopub.execute_input": "2022-04-05T11:12:27.823105Z",
     "iopub.status.busy": "2022-04-05T11:12:27.822340Z",
     "iopub.status.idle": "2022-04-05T11:12:27.836362Z",
     "shell.execute_reply": "2022-04-05T11:12:27.837087Z",
     "shell.execute_reply.started": "2022-04-05T11:10:32.200522Z"
    },
    "papermill": {
     "duration": 0.043113,
     "end_time": "2022-04-05T11:12:27.837281",
     "exception": false,
     "start_time": "2022-04-05T11:12:27.794168",
     "status": "completed"
    },
    "tags": []
   },
   "outputs": [
    {
     "name": "stdout",
     "output_type": "stream",
     "text": [
      "Now onto the predictions, They are:\n",
      "[208500. 181500. 223500. ... 266500. 142125. 147500.]\n",
      "[208500. 181500. 223500. 140000. 250000.]\n"
     ]
    },
    {
     "data": {
      "application/javascript": [
       "parent.postMessage({\"jupyterEvent\": \"custom.exercise_interaction\", \"data\": {\"outcomeType\": 1, \"valueTowardsCompletion\": 0.25, \"interactionType\": 1, \"questionType\": 2, \"questionId\": \"4_MakePredictions\", \"learnToolsVersion\": \"0.3.4\", \"failureMessage\": \"\", \"exceptionClass\": \"\", \"trace\": \"\"}}, \"*\")"
      ],
      "text/plain": [
       "<IPython.core.display.Javascript object>"
      ]
     },
     "metadata": {},
     "output_type": "display_data"
    },
    {
     "data": {
      "text/markdown": [
       "<span style=\"color:#33cc33\">Correct</span>"
      ],
      "text/plain": [
       "Correct"
      ]
     },
     "metadata": {},
     "output_type": "display_data"
    }
   ],
   "source": [
    "print('Now onto the predictions, They are:')\n",
    "predictions = iowa_model.predict(X)\n",
    "print(predictions)\n",
    "few_predictions = iowa_model.predict(X.head())\n",
    "print(few_predictions)\n",
    "# Check your answer\n",
    "step_4.check()"
   ]
  },
  {
   "cell_type": "code",
   "execution_count": 11,
   "id": "e161e1da",
   "metadata": {
    "collapsed": true,
    "execution": {
     "iopub.execute_input": "2022-04-05T11:12:27.895474Z",
     "iopub.status.busy": "2022-04-05T11:12:27.894871Z",
     "iopub.status.idle": "2022-04-05T11:12:27.896475Z",
     "shell.execute_reply": "2022-04-05T11:12:27.897153Z"
    },
    "jupyter": {
     "outputs_hidden": true
    },
    "papermill": {
     "duration": 0.029824,
     "end_time": "2022-04-05T11:12:27.897312",
     "exception": false,
     "start_time": "2022-04-05T11:12:27.867488",
     "status": "completed"
    },
    "tags": []
   },
   "outputs": [],
   "source": [
    "# step_4.hint()\n",
    "# step_4.solution()"
   ]
  },
  {
   "cell_type": "markdown",
   "id": "d139e588",
   "metadata": {
    "papermill": {
     "duration": 0.024133,
     "end_time": "2022-04-05T11:12:27.946964",
     "exception": false,
     "start_time": "2022-04-05T11:12:27.922831",
     "status": "completed"
    },
    "tags": []
   },
   "source": [
    "## Think About Your Results\n",
    "\n",
    "Use the `head` method to compare the top few predictions to the actual home values (in `y`) for those same homes. Anything surprising?\n"
   ]
  },
  {
   "cell_type": "code",
   "execution_count": 12,
   "id": "ebed9358",
   "metadata": {
    "execution": {
     "iopub.execute_input": "2022-04-05T11:12:27.994799Z",
     "iopub.status.busy": "2022-04-05T11:12:27.994251Z",
     "iopub.status.idle": "2022-04-05T11:12:28.001532Z",
     "shell.execute_reply": "2022-04-05T11:12:28.002107Z",
     "shell.execute_reply.started": "2022-04-05T11:08:48.135426Z"
    },
    "papermill": {
     "duration": 0.031834,
     "end_time": "2022-04-05T11:12:28.002231",
     "exception": false,
     "start_time": "2022-04-05T11:12:27.970397",
     "status": "completed"
    },
    "tags": []
   },
   "outputs": [
    {
     "name": "stdout",
     "output_type": "stream",
     "text": [
      "count      1460.000000\n",
      "mean     180921.195890\n",
      "std       79442.502883\n",
      "min       34900.000000\n",
      "25%      129975.000000\n",
      "50%      163000.000000\n",
      "75%      214000.000000\n",
      "max      755000.000000\n",
      "Name: SalePrice, dtype: float64\n",
      "0    208500\n",
      "1    181500\n",
      "2    223500\n",
      "3    140000\n",
      "4    250000\n",
      "Name: SalePrice, dtype: int64\n"
     ]
    }
   ],
   "source": [
    "# You can write code in this cell\n",
    "print(y.describe())\n",
    "print(y.head())\n"
   ]
  },
  {
   "cell_type": "markdown",
   "id": "08c4a897",
   "metadata": {
    "papermill": {
     "duration": 0.022216,
     "end_time": "2022-04-05T11:12:28.047403",
     "exception": false,
     "start_time": "2022-04-05T11:12:28.025187",
     "status": "completed"
    },
    "tags": []
   },
   "source": [
    "It's natural to ask how accurate the model's predictions will be and how you can improve that. That will be you're next step.\n",
    "\n",
    "# Keep Going\n",
    "\n",
    "You are ready for **[Model Validation](https://www.kaggle.com/dansbecker/model-validation).**\n"
   ]
  },
  {
   "cell_type": "markdown",
   "id": "c305a912",
   "metadata": {
    "papermill": {
     "duration": 0.022136,
     "end_time": "2022-04-05T11:12:28.093147",
     "exception": false,
     "start_time": "2022-04-05T11:12:28.071011",
     "status": "completed"
    },
    "tags": []
   },
   "source": [
    "---\n",
    "\n",
    "\n",
    "\n",
    "\n",
    "*Have questions or comments? Visit the [course discussion forum](https://www.kaggle.com/learn/intro-to-machine-learning/discussion) to chat with other learners.*"
   ]
  }
 ],
 "metadata": {
  "kernelspec": {
   "display_name": "Python 3",
   "language": "python",
   "name": "python3"
  },
  "language_info": {
   "codemirror_mode": {
    "name": "ipython",
    "version": 3
   },
   "file_extension": ".py",
   "mimetype": "text/x-python",
   "name": "python",
   "nbconvert_exporter": "python",
   "pygments_lexer": "ipython3",
   "version": "3.7.12"
  },
  "papermill": {
   "default_parameters": {},
   "duration": 10.872182,
   "end_time": "2022-04-05T11:12:28.623292",
   "environment_variables": {},
   "exception": null,
   "input_path": "__notebook__.ipynb",
   "output_path": "__notebook__.ipynb",
   "parameters": {},
   "start_time": "2022-04-05T11:12:17.751110",
   "version": "2.3.3"
  }
 },
 "nbformat": 4,
 "nbformat_minor": 5
}
